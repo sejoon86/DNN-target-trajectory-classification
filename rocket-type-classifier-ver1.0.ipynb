{
 "cells": [
  {
   "cell_type": "markdown",
   "metadata": {},
   "source": [
    "## Rocket Type Classification DNN\n",
    "#### created at : 2019-05-31\n",
    "#### last modified: \n",
    "\n",
    "### Classifier Description\n",
    "Input: (1)altitude, (2) |V_drng|, (3) V_up, (4) V_total, (5) spec E\n",
    "\n",
    "ouput: class probability [1] 170mm, [2], 240mm, [3] 300mm"
   ]
  },
  {
   "cell_type": "code",
   "execution_count": 1,
   "metadata": {},
   "outputs": [
    {
     "name": "stderr",
     "output_type": "stream",
     "text": [
      "Using TensorFlow backend.\n"
     ]
    }
   ],
   "source": [
    "# import \n",
    "import os\n",
    "import numpy as np\n",
    "import scipy.io as sio\n",
    "import time\n",
    "import random\n",
    "\n",
    "import torch\n",
    "from torch import nn\n",
    "from torch import optim\n",
    "import torch.nn.functional as F\n",
    "\n",
    "import matplotlib.pyplot as plt\n",
    "\n",
    "\n",
    "\n",
    "from keras.utils import to_categorical"
   ]
  },
  {
   "cell_type": "code",
   "execution_count": 2,
   "metadata": {},
   "outputs": [
    {
     "name": "stdout",
     "output_type": "stream",
     "text": [
      "(1290, 1)\n",
      "(1290, 5)\n"
     ]
    }
   ],
   "source": [
    "#### load data from *.mat file\n",
    "\n",
    "## load mat file\n",
    "data_all = sio.loadmat('pre_processed_data_170_240_300_BAL_5000.mat')\n",
    "data_Num = 4300\n",
    "\n",
    "## normalization vector\n",
    "std = np.array([50000, 1500, 1500, 1500, 1000000])\n",
    "\n",
    "## make np.arrays from dictionary \n",
    "input_170 = data_all['input_170'] \n",
    "input_240 = data_all['input_240'] \n",
    "input_300 = data_all['input_300'] \n",
    "\n",
    "## split data into train valid and test set\n",
    "train_Num = data_Num * 0.7\n",
    "valid_Num = data_Num * 0.2\n",
    "test_Num = data_Num * 0.1\n",
    "\n",
    "train_idx = np.arange(0,train_Num).astype(int)\n",
    "valid_idx = np.arange(train_Num, train_Num+valid_Num).astype(int)\n",
    "test_idx = np.arange(train_Num+valid_Num,data_Num).astype(int) \n",
    "\n",
    "#shuffle index\n",
    "idx_170 = np.arange(len(input_170))\n",
    "idx_240 = np.arange(len(input_240))\n",
    "idx_300 = np.arange(len(input_300))\n",
    "\n",
    "np.random.shuffle(idx_170) \n",
    "np.random.shuffle(idx_240) \n",
    "np.random.shuffle(idx_300) \n",
    "\n",
    "idx_170 = idx_170[:data_Num]\n",
    "idx_240 = idx_240[:data_Num]\n",
    "idx_300 = idx_300[:data_Num]\n",
    "  \n",
    "# shuffled data    \n",
    "X_170 = input_170[idx_170,:5]\n",
    "X_240 = input_240[idx_240,:5]\n",
    "X_300 = input_300[idx_300,:5]\n",
    "\n",
    "## make class output vectors (not one hot coding)\n",
    "D_170 = np.zeros((data_Num,1))\n",
    "D_240 = np.zeros((data_Num,1))+1\n",
    "D_300 = np.zeros((data_Num,1))+2\n",
    "#D_300[:,0] = 1; \n",
    "\n",
    "## split data set  \n",
    "X_train = np.concatenate( (X_170[train_idx,:], X_240[train_idx,:], X_300[train_idx,:]))\n",
    "D_train = np.concatenate( (D_170[train_idx,:], D_240[train_idx,:], D_300[train_idx,:]))\n",
    "\n",
    "X_valid = np.concatenate( (X_170[valid_idx,:], X_240[valid_idx,:], X_300[valid_idx,:]))\n",
    "D_valid = np.concatenate( (D_170[valid_idx,:], D_240[valid_idx,:], D_300[valid_idx,:]))\n",
    "\n",
    "X_test = np.concatenate( (X_170[test_idx,:], X_240[test_idx,:], X_300[test_idx,:]))\n",
    "D_test = np.concatenate( (D_170[test_idx,:], D_240[test_idx,:], D_300[test_idx,:]))\n",
    "\n",
    "D = torch.from_numpy(D_test)\n",
    "X = torch.from_numpy(X_test)\n",
    "print(D_test.shape)\n",
    "print(X_test.shape)\n",
    " "
   ]
  },
  {
   "cell_type": "code",
   "execution_count": 3,
   "metadata": {},
   "outputs": [
    {
     "name": "stdout",
     "output_type": "stream",
     "text": [
      "<class 'dict'>\n",
      "dict_keys(['__header__', '__version__', '__globals__', 'input_170', 'input_240', 'input_300'])\n",
      "<class 'numpy.ndarray'>\n",
      "18655\n",
      "\n",
      "[ 4007  1664  6745 ... 11418  9286 17892]\n",
      "3010\n",
      "860\n",
      "430\n",
      "\n",
      "0\n",
      "3009\n",
      "3010\n",
      "3869\n",
      "3870\n",
      "4299\n"
     ]
    }
   ],
   "source": [
    "print(type(data_all))\n",
    "print(data_all.keys())\n",
    "print(type(data_all['input_170']))\n",
    "print(len(data_all['input_170']))\n",
    "print(\"\")\n",
    "print(idx_170) \n",
    "print(len(train_idx))\n",
    "print(len(valid_idx))\n",
    "print(len(test_idx))\n",
    "print(\"\")\n",
    "print(min(train_idx))\n",
    "print(max(train_idx))\n",
    "print(min(valid_idx))\n",
    "print(max(valid_idx))\n",
    "print(min(test_idx))\n",
    "print(max(test_idx))\n",
    "\n",
    "\n"
   ]
  },
  {
   "cell_type": "markdown",
   "metadata": {},
   "source": [
    "## I wish to change the structure of the NN"
   ]
  },
  {
   "cell_type": "code",
   "execution_count": 4,
   "metadata": {},
   "outputs": [
    {
     "name": "stdout",
     "output_type": "stream",
     "text": [
      "RTC_net(\n",
      "  (fc1): Linear(in_features=5, out_features=256, bias=True)\n",
      "  (fc2): Linear(in_features=256, out_features=128, bias=True)\n",
      "  (fc3): Linear(in_features=128, out_features=64, bias=True)\n",
      "  (fc4): Linear(in_features=64, out_features=3, bias=True)\n",
      "  (dropout): Dropout(p=0.5)\n",
      ")\n"
     ]
    }
   ],
   "source": [
    "# define DNN network\n",
    "class RTC_net(nn.Module):\n",
    "    def __init__(self):\n",
    "        super(RTC_net, self).__init__()\n",
    "        hidden_1 = 256\n",
    "        hidden_2 = 128\n",
    "        hidden_3 = 64\n",
    "        \n",
    "        self.fc1 = nn.Linear(5,hidden_1)\n",
    "        self.fc2 = nn.Linear(hidden_1, hidden_2)\n",
    "        self.fc3 = nn.Linear(hidden_2, hidden_3)\n",
    "        self.fc4 = nn.Linear(hidden_3, 3)\n",
    "        self.dropout = nn.Dropout(0.5)\n",
    "    def forward(self,x):\n",
    "        x = x/std\n",
    "        x = torch.from_numpy(x).float() \n",
    "        x = x.view(-1,5) \n",
    "        x = F.relu(self.fc1(x))\n",
    "        x = self.dropout(x) \n",
    "        x = F.relu(self.fc2(x))\n",
    "        x = self.dropout(x) \n",
    "        x = F.relu(self.fc3(x))\n",
    "        x = self.dropout(x) \n",
    "        x = self.fc4(x) \n",
    "        return x\n",
    "    \n",
    "model = RTC_net()\n",
    "print(model)"
   ]
  },
  {
   "cell_type": "code",
   "execution_count": 5,
   "metadata": {},
   "outputs": [
    {
     "data": {
      "text/plain": [
       "RTC_net(\n",
       "  (fc1): Linear(in_features=5, out_features=256, bias=True)\n",
       "  (fc2): Linear(in_features=256, out_features=128, bias=True)\n",
       "  (fc3): Linear(in_features=128, out_features=64, bias=True)\n",
       "  (fc4): Linear(in_features=64, out_features=3, bias=True)\n",
       "  (dropout): Dropout(p=0.5)\n",
       ")"
      ]
     },
     "execution_count": 5,
     "metadata": {},
     "output_type": "execute_result"
    }
   ],
   "source": [
    "def weights_init_normal(m):\n",
    "    classname = m.__class__.__name__\n",
    "    # for every Linear layer in a model..\n",
    "    if classname.find('Linear') != -1:\n",
    "        # get the number of the inputs\n",
    "        n = m.in_features\n",
    "        y = (1.0/np.sqrt(n))\n",
    "        m.weight.data.normal_(0, y)\n",
    "        m.bias.data.normal_(0.1, 0.05)\n",
    "        \n",
    "model.apply(weights_init_normal)"
   ]
  },
  {
   "cell_type": "code",
   "execution_count": 6,
   "metadata": {
    "scrolled": true
   },
   "outputs": [
    {
     "data": {
      "image/png": "[encoded data removed]",
      "text/plain": [
       "<Figure size 432x288 with 1 Axes>"
      ]
     },
     "metadata": {
      "needs_background": "light"
     },
     "output_type": "display_data"
    }
   ],
   "source": [
    "plt.hist(model.fc2.bias.detach());\n"
   ]
  },
  {
   "cell_type": "code",
   "execution_count": 7,
   "metadata": {
    "scrolled": true
   },
   "outputs": [
    {
     "data": {
      "image/png": "[encoded data removed]",
      "text/plain": [
       "<Figure size 432x288 with 1 Axes>"
      ]
     },
     "metadata": {
      "needs_background": "light"
     },
     "output_type": "display_data"
    }
   ],
   "source": [
    "plt.hist(model.fc1.weight.flatten().detach());"
   ]
  },
  {
   "cell_type": "code",
   "execution_count": 8,
   "metadata": {},
   "outputs": [],
   "source": [
    "# define loss function and optimizer\n",
    "criterion = nn.CrossEntropyLoss()\n",
    "optimizer = optim.SGD(model.parameters(), lr=0.001)"
   ]
  },
  {
   "cell_type": "markdown",
   "metadata": {},
   "source": [
    "## I wish to change the batch size from 1 to N"
   ]
  },
  {
   "cell_type": "code",
   "execution_count": 14,
   "metadata": {
    "scrolled": false
   },
   "outputs": [
    {
     "name": "stdout",
     "output_type": "stream",
     "text": [
      "Epoch: 1\t Train Loss 0.310855\t Valid Loss 0.197020\n",
      "val loss decreased. saving model\n",
      "Epoch: 2\t Train Loss 0.297679\t Valid Loss 0.201093\n",
      "Epoch: 3\t Train Loss 0.280050\t Valid Loss 0.181658\n",
      "val loss decreased. saving model\n",
      "Epoch: 4\t Train Loss 0.271091\t Valid Loss 0.177930\n",
      "val loss decreased. saving model\n",
      "Epoch: 5\t Train Loss 0.263744\t Valid Loss 0.173654\n",
      "val loss decreased. saving model\n",
      "Epoch: 6\t Train Loss 0.253353\t Valid Loss 0.177100\n",
      "Epoch: 7\t Train Loss 0.251114\t Valid Loss 0.161351\n",
      "val loss decreased. saving model\n",
      "Epoch: 8\t Train Loss 0.241383\t Valid Loss 0.150589\n",
      "val loss decreased. saving model\n",
      "Epoch: 9\t Train Loss 0.236126\t Valid Loss 0.147743\n",
      "val loss decreased. saving model\n",
      "Epoch: 10\t Train Loss 0.228336\t Valid Loss 0.142358\n",
      "val loss decreased. saving model\n",
      "Epoch: 11\t Train Loss 0.228297\t Valid Loss 0.139789\n",
      "val loss decreased. saving model\n",
      "Epoch: 12\t Train Loss 0.219316\t Valid Loss 0.134530\n",
      "val loss decreased. saving model\n",
      "Epoch: 13\t Train Loss 0.213254\t Valid Loss 0.130901\n",
      "val loss decreased. saving model\n",
      "Epoch: 14\t Train Loss 0.208830\t Valid Loss 0.132094\n",
      "Epoch: 15\t Train Loss 0.209185\t Valid Loss 0.129568\n",
      "val loss decreased. saving model\n",
      "Epoch: 16\t Train Loss 0.195880\t Valid Loss 0.121634\n",
      "val loss decreased. saving model\n",
      "Epoch: 17\t Train Loss 0.197850\t Valid Loss 0.120929\n",
      "val loss decreased. saving model\n",
      "Epoch: 18\t Train Loss 0.189815\t Valid Loss 0.120921\n",
      "val loss decreased. saving model\n",
      "Epoch: 19\t Train Loss 0.189201\t Valid Loss 0.116195\n",
      "val loss decreased. saving model\n",
      "Epoch: 20\t Train Loss 0.188668\t Valid Loss 0.116323\n",
      "Epoch: 21\t Train Loss 0.184811\t Valid Loss 0.111318\n",
      "val loss decreased. saving model\n",
      "Epoch: 22\t Train Loss 0.180852\t Valid Loss 0.109070\n",
      "val loss decreased. saving model\n",
      "Epoch: 23\t Train Loss 0.181374\t Valid Loss 0.108963\n",
      "val loss decreased. saving model\n",
      "Epoch: 24\t Train Loss 0.174319\t Valid Loss 0.108478\n",
      "val loss decreased. saving model\n",
      "Epoch: 25\t Train Loss 0.170803\t Valid Loss 0.106497\n",
      "val loss decreased. saving model\n",
      "Epoch: 26\t Train Loss 0.174840\t Valid Loss 0.105344\n",
      "val loss decreased. saving model\n",
      "Epoch: 27\t Train Loss 0.169755\t Valid Loss 0.102959\n",
      "val loss decreased. saving model\n",
      "Epoch: 28\t Train Loss 0.169631\t Valid Loss 0.101807\n",
      "val loss decreased. saving model\n",
      "Epoch: 29\t Train Loss 0.164671\t Valid Loss 0.100115\n",
      "val loss decreased. saving model\n",
      "Epoch: 30\t Train Loss 0.164482\t Valid Loss 0.097658\n",
      "val loss decreased. saving model\n",
      "Epoch: 31\t Train Loss 0.156916\t Valid Loss 0.100242\n",
      "Epoch: 32\t Train Loss 0.162689\t Valid Loss 0.098980\n",
      "Epoch: 33\t Train Loss 0.156737\t Valid Loss 0.092573\n",
      "val loss decreased. saving model\n",
      "Epoch: 34\t Train Loss 0.159152\t Valid Loss 0.095048\n",
      "Epoch: 35\t Train Loss 0.152896\t Valid Loss 0.091855\n",
      "val loss decreased. saving model\n",
      "Epoch: 36\t Train Loss 0.148302\t Valid Loss 0.090299\n",
      "val loss decreased. saving model\n",
      "Epoch: 37\t Train Loss 0.153594\t Valid Loss 0.098125\n",
      "Epoch: 38\t Train Loss 0.149359\t Valid Loss 0.087563\n",
      "val loss decreased. saving model\n",
      "Epoch: 39\t Train Loss 0.148426\t Valid Loss 0.086112\n",
      "val loss decreased. saving model\n",
      "Epoch: 40\t Train Loss 0.147554\t Valid Loss 0.085361\n",
      "val loss decreased. saving model\n",
      "Epoch: 41\t Train Loss 0.140129\t Valid Loss 0.093808\n",
      "Epoch: 42\t Train Loss 0.141774\t Valid Loss 0.084818\n",
      "val loss decreased. saving model\n",
      "Epoch: 43\t Train Loss 0.144144\t Valid Loss 0.101461\n",
      "Epoch: 44\t Train Loss 0.143047\t Valid Loss 0.083724\n",
      "val loss decreased. saving model\n",
      "Epoch: 45\t Train Loss 0.144235\t Valid Loss 0.083767\n",
      "Epoch: 46\t Train Loss 0.144057\t Valid Loss 0.084404\n",
      "Epoch: 47\t Train Loss 0.138723\t Valid Loss 0.079729\n",
      "val loss decreased. saving model\n",
      "Epoch: 48\t Train Loss 0.134920\t Valid Loss 0.078812\n",
      "val loss decreased. saving model\n",
      "Epoch: 49\t Train Loss 0.138612\t Valid Loss 0.080956\n",
      "Epoch: 50\t Train Loss 0.138948\t Valid Loss 0.081179\n",
      "Epoch: 51\t Train Loss 0.139915\t Valid Loss 0.080573\n",
      "Epoch: 52\t Train Loss 0.132047\t Valid Loss 0.077265\n",
      "val loss decreased. saving model\n",
      "Epoch: 53\t Train Loss 0.134132\t Valid Loss 0.074408\n",
      "val loss decreased. saving model\n",
      "Epoch: 54\t Train Loss 0.133379\t Valid Loss 0.077387\n",
      "Epoch: 55\t Train Loss 0.127608\t Valid Loss 0.075164\n",
      "Epoch: 56\t Train Loss 0.123834\t Valid Loss 0.075373\n",
      "Epoch: 57\t Train Loss 0.123783\t Valid Loss 0.073638\n",
      "val loss decreased. saving model\n",
      "Epoch: 58\t Train Loss 0.127013\t Valid Loss 0.077886\n",
      "Epoch: 59\t Train Loss 0.126214\t Valid Loss 0.072185\n",
      "val loss decreased. saving model\n",
      "Epoch: 60\t Train Loss 0.124218\t Valid Loss 0.078274\n",
      "Epoch: 61\t Train Loss 0.130157\t Valid Loss 0.075152\n",
      "Epoch: 62\t Train Loss 0.128717\t Valid Loss 0.071128\n",
      "val loss decreased. saving model\n",
      "Epoch: 63\t Train Loss 0.126009\t Valid Loss 0.067773\n",
      "val loss decreased. saving model\n",
      "Epoch: 64\t Train Loss 0.121909\t Valid Loss 0.068722\n",
      "Epoch: 65\t Train Loss 0.121368\t Valid Loss 0.068597\n",
      "Epoch: 66\t Train Loss 0.125748\t Valid Loss 0.071879\n",
      "Epoch: 67\t Train Loss 0.121362\t Valid Loss 0.065614\n",
      "val loss decreased. saving model\n",
      "Epoch: 68\t Train Loss 0.121851\t Valid Loss 0.069234\n",
      "Epoch: 69\t Train Loss 0.114754\t Valid Loss 0.066562\n",
      "Epoch: 70\t Train Loss 0.122706\t Valid Loss 0.069188\n",
      "Epoch: 71\t Train Loss 0.116522\t Valid Loss 0.069847\n",
      "Epoch: 72\t Train Loss 0.120783\t Valid Loss 0.068161\n",
      "Epoch: 73\t Train Loss 0.111900\t Valid Loss 0.061998\n",
      "val loss decreased. saving model\n",
      "Epoch: 74\t Train Loss 0.113380\t Valid Loss 0.070391\n",
      "Epoch: 75\t Train Loss 0.117066\t Valid Loss 0.070002\n",
      "Epoch: 76\t Train Loss 0.120688\t Valid Loss 0.073585\n",
      "Epoch: 77\t Train Loss 0.119546\t Valid Loss 0.077141\n",
      "Epoch: 78\t Train Loss 0.111185\t Valid Loss 0.062779\n",
      "Epoch: 79\t Train Loss 0.112986\t Valid Loss 0.066786\n",
      "Epoch: 80\t Train Loss 0.114294\t Valid Loss 0.067552\n",
      "Epoch: 81\t Train Loss 0.112827\t Valid Loss 0.066502\n",
      "Epoch: 82\t Train Loss 0.111152\t Valid Loss 0.062045\n",
      "Epoch: 83\t Train Loss 0.109146\t Valid Loss 0.064353\n",
      "Epoch: 84\t Train Loss 0.109664\t Valid Loss 0.072303\n",
      "Epoch: 85\t Train Loss 0.112449\t Valid Loss 0.060988\n",
      "val loss decreased. saving model\n",
      "Epoch: 86\t Train Loss 0.111953\t Valid Loss 0.061730\n",
      "Epoch: 87\t Train Loss 0.109027\t Valid Loss 0.074590\n",
      "Epoch: 88\t Train Loss 0.108494\t Valid Loss 0.069513\n",
      "Epoch: 89\t Train Loss 0.110801\t Valid Loss 0.063465\n",
      "Epoch: 90\t Train Loss 0.108323\t Valid Loss 0.060706\n",
      "val loss decreased. saving model\n",
      "Epoch: 91\t Train Loss 0.106854\t Valid Loss 0.062404\n",
      "Epoch: 92\t Train Loss 0.107681\t Valid Loss 0.064695\n",
      "Epoch: 93\t Train Loss 0.102158\t Valid Loss 0.056494\n",
      "val loss decreased. saving model\n",
      "Epoch: 94\t Train Loss 0.102096\t Valid Loss 0.057003\n",
      "Epoch: 95\t Train Loss 0.105212\t Valid Loss 0.064802\n",
      "Epoch: 96\t Train Loss 0.102270\t Valid Loss 0.072946\n",
      "Epoch: 97\t Train Loss 0.105929\t Valid Loss 0.059822\n",
      "Epoch: 98\t Train Loss 0.106596\t Valid Loss 0.060016\n",
      "Epoch: 99\t Train Loss 0.106472\t Valid Loss 0.055528\n",
      "val loss decreased. saving model\n",
      "Epoch: 100\t Train Loss 0.098711\t Valid Loss 0.059674\n"
     ]
    }
   ],
   "source": [
    "# train network (show train and validation loss)\n",
    "# save model when validation loss decreases\n",
    "n_epochs = 100\n",
    "\n",
    "valid_loss_min = np.Inf\n",
    "\n",
    "for epochs in range(n_epochs):\n",
    "    train_loss = 0\n",
    "    valid_loss = 0\n",
    "    \n",
    "    model.train()\n",
    "    \n",
    "    idx = np.arange(len(X_train))\n",
    "    np.random.shuffle(idx)\n",
    "    X_train = X_train[idx,:]\n",
    "    D_train = D_train[idx]\n",
    "    \n",
    "    for N in range(len(X_train)):\n",
    "        optimizer.zero_grad()\n",
    "        data = X_train[N,:] \n",
    "        target = torch.from_numpy(D_train[N,:]).long()\n",
    "        \n",
    "        \n",
    "        \n",
    "        output = model(data)  \n",
    "        loss = criterion(output, target)\n",
    "        loss.backward()\n",
    "        optimizer.step()\n",
    "        \n",
    "        train_loss += loss.item()\n",
    "        \n",
    "    model.eval()\n",
    "    for N in range(len(X_valid)):\n",
    "        data = X_valid[N,:]\n",
    "        target = torch.from_numpy(D_valid[N,:]).long()\n",
    "        \n",
    "        output = model(data)\n",
    "        loss = criterion(output, target) \n",
    "        valid_loss += loss.item()\n",
    "        \n",
    "    train_loss = train_loss/len(X_train)\n",
    "    valid_loss = valid_loss/len(X_valid)\n",
    "    \n",
    "    print('Epoch: {}\\t Train Loss {:6f}\\t Valid Loss {:6f}'.format(\n",
    "        epochs+1, train_loss, valid_loss))\n",
    "    \n",
    "    if valid_loss < valid_loss_min:\n",
    "        print(\"val loss decreased. saving model\")\n",
    "        torch.save(model.state_dict(), 'RTC_model.pt')\n",
    "        valid_loss_min = valid_loss"
   ]
  },
  {
   "cell_type": "markdown",
   "metadata": {},
   "source": [
    "## I need to load the pt file!!"
   ]
  },
  {
   "cell_type": "code",
   "execution_count": 15,
   "metadata": {
    "scrolled": true
   },
   "outputs": [],
   "source": [
    "## model loading\n",
    "\n",
    "#model = RTC_net()\n",
    "#model = load('')"
   ]
  },
  {
   "cell_type": "code",
   "execution_count": 52,
   "metadata": {},
   "outputs": [
    {
     "name": "stderr",
     "output_type": "stream",
     "text": [
      "C:\\Users\\Sejoon\\Anaconda3\\lib\\site-packages\\ipykernel_launcher.py:14: UserWarning: Implicit dimension choice for softmax has been deprecated. Change the call to include dim=X as an argument.\n",
      "  \n"
     ]
    },
    {
     "name": "stdout",
     "output_type": "stream",
     "text": [
      "0.06355349056480467\n",
      "97.36434108527132\n"
     ]
    }
   ],
   "source": [
    "# test data\n",
    "test_loss = 0\n",
    "test_accuracy = 0\n",
    "\n",
    "model.eval()\n",
    "\n",
    "prob_arr = np.zeros((len(X_test),3))\n",
    "for N in range(len(X_test)):\n",
    "    \n",
    "    data = X_test[N,:]  \n",
    "    target = torch.from_numpy(D_test[N]).long()\n",
    "\n",
    "    output = model(data)  \n",
    "    prob = F.softmax(output)\n",
    "    ii = np.argmax(prob.detach().numpy(),axis=1)   \n",
    "    test_accuracy += int(D_test[N]==ii)\n",
    "    prob_arr[N,:] = prob.detach().numpy()\n",
    "    loss = criterion(output, target)\n",
    "    \n",
    "    test_loss += loss.item()\n",
    "test_loss = test_loss / len(X_test)\n",
    "test_accuracy = test_accuracy / len(X_test)\n",
    "      \n",
    "print(test_loss)\n",
    "print(test_accuracy*100)"
   ]
  },
  {
   "cell_type": "markdown",
   "metadata": {},
   "source": [
    "## Let's VISUALIZE baby!"
   ]
  },
  {
   "cell_type": "code",
   "execution_count": 61,
   "metadata": {
    "scrolled": false
   },
   "outputs": [
    {
     "data": {
      "image/png": "[encoded data removed]",
      "text/plain": [
       "<Figure size 432x288 with 1 Axes>"
      ]
     },
     "metadata": {
      "needs_background": "light"
     },
     "output_type": "display_data"
    }
   ],
   "source": [
    "# visualize results\n",
    "plt.hist(prob_arr.flatten(),bins=50);"
   ]
  },
  {
   "cell_type": "code",
   "execution_count": 80,
   "metadata": {},
   "outputs": [
    {
     "data": {
      "text/plain": [
       "<matplotlib.collections.PathCollection at 0x1a4d1be5160>"
      ]
     },
     "execution_count": 80,
     "metadata": {},
     "output_type": "execute_result"
    },
    {
     "data": {
      "image/png": "[encoded data removed]",
      "text/plain": [
       "<Figure size 432x288 with 1 Axes>"
      ]
     },
     "metadata": {
      "needs_background": "light"
     },
     "output_type": "display_data"
    }
   ],
   "source": [
    "from mpl_toolkits.mplot3d import Axes3D\n",
    "fig = plt.figure()\n",
    "ax = fig.add_subplot(111)\n",
    "#ax = fig.add_subplot(111,projection='3d')\n",
    "plt.scatter(prob_arr[:,0],prob_arr[:,1],prob_arr[:,2],marker='x')  "
   ]
  },
  {
   "cell_type": "code",
   "execution_count": 77,
   "metadata": {},
   "outputs": [
    {
     "data": {
      "text/plain": [
       "array([7.68597238e-05, 1.04652420e-01, 1.89282335e-04, ...,\n",
       "       9.99998212e-01, 1.00000000e+00, 9.98833239e-01])"
      ]
     },
     "execution_count": 77,
     "metadata": {},
     "output_type": "execute_result"
    }
   ],
   "source": [
    "prob_arr[:,2]"
   ]
  },
  {
   "cell_type": "code",
   "execution_count": null,
   "metadata": {},
   "outputs": [],
   "source": [
    "\n",
    "\n",
    "\n",
    "\n",
    "\n",
    "\n",
    "\n",
    "\n",
    "\n",
    "\n",
    "\n",
    "\n",
    "\n",
    "\n",
    "\n",
    "\n",
    "\n",
    "\n",
    "\n",
    "\n",
    "\n",
    "\n",
    "\n",
    "\n",
    "\n"
   ]
  }
 ],
 "metadata": {
  "kernelspec": {
   "display_name": "Python 3",
   "language": "python",
   "name": "python3"
  },
  "language_info": {
   "codemirror_mode": {
    "name": "ipython",
    "version": 3
   },
   "file_extension": ".py",
   "mimetype": "text/x-python",
   "name": "python",
   "nbconvert_exporter": "python",
   "pygments_lexer": "ipython3",
   "version": "3.7.1"
  }
 },
 "nbformat": 4,
 "nbformat_minor": 2
}
